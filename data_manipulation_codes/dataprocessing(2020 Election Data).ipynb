{
 "metadata": {
  "language_info": {
   "codemirror_mode": {
    "name": "ipython",
    "version": 3
   },
   "file_extension": ".py",
   "mimetype": "text/x-python",
   "name": "python",
   "nbconvert_exporter": "python",
   "pygments_lexer": "ipython3",
   "version": "3.8.3-final"
  },
  "orig_nbformat": 2,
  "kernelspec": {
   "name": "python3",
   "display_name": "Python 3",
   "language": "python"
  }
 },
 "nbformat": 4,
 "nbformat_minor": 2,
 "cells": [
  {
   "cell_type": "code",
   "execution_count": 1,
   "metadata": {},
   "outputs": [],
   "source": [
    "# Importing necessary Libraries\n",
    "\n",
    "import numpy as np\n",
    "import pandas as pd\n",
    "import matplotlib.pyplot as plt\n",
    "import geopandas as gpd \n",
    "\n"
   ]
  },
  {
   "cell_type": "code",
   "execution_count": 2,
   "metadata": {},
   "outputs": [],
   "source": [
    "# 2020 Election dataset\n",
    "\n",
    "election_df_2020 = pd.read_csv('president_county_candidate.csv')"
   ]
  },
  {
   "cell_type": "code",
   "execution_count": 3,
   "metadata": {},
   "outputs": [
    {
     "output_type": "execute_result",
     "data": {
      "text/plain": [
       "3007"
      ]
     },
     "metadata": {},
     "execution_count": 3
    }
   ],
   "source": [
    "election_df_2020.county.nunique()"
   ]
  },
  {
   "cell_type": "code",
   "execution_count": 4,
   "metadata": {},
   "outputs": [
    {
     "output_type": "execute_result",
     "data": {
      "text/plain": [
       "array(['Joe Biden', 'Donald Trump', 'Jo Jorgensen', 'Howie Hawkins',\n",
       "       ' Write-ins', 'Gloria La Riva', 'Brock Pierce',\n",
       "       'Rocky De La Fuente', 'Don Blankenship', 'Kanye West',\n",
       "       'Brian Carroll', 'Ricki Sue King', 'Jade Simmons',\n",
       "       'President Boddie', 'Bill Hammons', 'Tom Hoefling',\n",
       "       'Alyson Kennedy', 'Jerome Segal', 'Phil Collins',\n",
       "       ' None of these candidates', 'Sheila Samm Tittle', 'Dario Hunter',\n",
       "       'Joe McHugh', 'Christopher LaFontaine', 'Keith McCormic',\n",
       "       'Brooke Paige', 'Gary Swing', 'Richard Duncan', 'Blake Huber',\n",
       "       'Kyle Kopitke', 'Zachary Scalf', 'Jesse Ventura', 'Connie Gammon',\n",
       "       'John Richard Myers', 'Mark Charles', 'Princess Jacob-Fambro',\n",
       "       'Joseph Kishore', 'Jordan Scott'], dtype=object)"
      ]
     },
     "metadata": {},
     "execution_count": 4
    }
   ],
   "source": [
    "# Unique value of all the candidates\n",
    "\n",
    "election_df_2020.candidate.unique()"
   ]
  },
  {
   "source": [
    "Wow.. there seems to be a lot of random President candidates. For the sake of our analysis. I am going to group every other candidate as 'others'"
   ],
   "cell_type": "markdown",
   "metadata": {}
  },
  {
   "cell_type": "code",
   "execution_count": 5,
   "metadata": {},
   "outputs": [
    {
     "output_type": "execute_result",
     "data": {
      "text/plain": [
       "          state             county     candidate party  total_votes    won\n",
       "0      Delaware        Kent County     Joe Biden   DEM        44552   True\n",
       "1      Delaware        Kent County  Donald Trump   REP        41009  False\n",
       "2      Delaware        Kent County        Others   LIB         1044  False\n",
       "3      Delaware        Kent County        Others   GRN          420  False\n",
       "4      Delaware  New Castle County     Joe Biden   DEM       195034   True\n",
       "...         ...                ...           ...   ...          ...    ...\n",
       "32144   Arizona    Maricopa County        Others   WRI         1331  False\n",
       "32145   Arizona      Mohave County  Donald Trump   REP        78535   True\n",
       "32146   Arizona      Mohave County     Joe Biden   DEM        24831  False\n",
       "32147   Arizona      Mohave County        Others   LIB         1302  False\n",
       "32148   Arizona      Mohave County        Others   WRI           37  False\n",
       "\n",
       "[32149 rows x 6 columns]"
      ],
      "text/html": "<div>\n<style scoped>\n    .dataframe tbody tr th:only-of-type {\n        vertical-align: middle;\n    }\n\n    .dataframe tbody tr th {\n        vertical-align: top;\n    }\n\n    .dataframe thead th {\n        text-align: right;\n    }\n</style>\n<table border=\"1\" class=\"dataframe\">\n  <thead>\n    <tr style=\"text-align: right;\">\n      <th></th>\n      <th>state</th>\n      <th>county</th>\n      <th>candidate</th>\n      <th>party</th>\n      <th>total_votes</th>\n      <th>won</th>\n    </tr>\n  </thead>\n  <tbody>\n    <tr>\n      <th>0</th>\n      <td>Delaware</td>\n      <td>Kent County</td>\n      <td>Joe Biden</td>\n      <td>DEM</td>\n      <td>44552</td>\n      <td>True</td>\n    </tr>\n    <tr>\n      <th>1</th>\n      <td>Delaware</td>\n      <td>Kent County</td>\n      <td>Donald Trump</td>\n      <td>REP</td>\n      <td>41009</td>\n      <td>False</td>\n    </tr>\n    <tr>\n      <th>2</th>\n      <td>Delaware</td>\n      <td>Kent County</td>\n      <td>Others</td>\n      <td>LIB</td>\n      <td>1044</td>\n      <td>False</td>\n    </tr>\n    <tr>\n      <th>3</th>\n      <td>Delaware</td>\n      <td>Kent County</td>\n      <td>Others</td>\n      <td>GRN</td>\n      <td>420</td>\n      <td>False</td>\n    </tr>\n    <tr>\n      <th>4</th>\n      <td>Delaware</td>\n      <td>New Castle County</td>\n      <td>Joe Biden</td>\n      <td>DEM</td>\n      <td>195034</td>\n      <td>True</td>\n    </tr>\n    <tr>\n      <th>...</th>\n      <td>...</td>\n      <td>...</td>\n      <td>...</td>\n      <td>...</td>\n      <td>...</td>\n      <td>...</td>\n    </tr>\n    <tr>\n      <th>32144</th>\n      <td>Arizona</td>\n      <td>Maricopa County</td>\n      <td>Others</td>\n      <td>WRI</td>\n      <td>1331</td>\n      <td>False</td>\n    </tr>\n    <tr>\n      <th>32145</th>\n      <td>Arizona</td>\n      <td>Mohave County</td>\n      <td>Donald Trump</td>\n      <td>REP</td>\n      <td>78535</td>\n      <td>True</td>\n    </tr>\n    <tr>\n      <th>32146</th>\n      <td>Arizona</td>\n      <td>Mohave County</td>\n      <td>Joe Biden</td>\n      <td>DEM</td>\n      <td>24831</td>\n      <td>False</td>\n    </tr>\n    <tr>\n      <th>32147</th>\n      <td>Arizona</td>\n      <td>Mohave County</td>\n      <td>Others</td>\n      <td>LIB</td>\n      <td>1302</td>\n      <td>False</td>\n    </tr>\n    <tr>\n      <th>32148</th>\n      <td>Arizona</td>\n      <td>Mohave County</td>\n      <td>Others</td>\n      <td>WRI</td>\n      <td>37</td>\n      <td>False</td>\n    </tr>\n  </tbody>\n</table>\n<p>32149 rows × 6 columns</p>\n</div>"
     },
     "metadata": {},
     "execution_count": 5
    }
   ],
   "source": [
    "# Converting all these random candidates to others\n",
    "election_df_2020['candidate'] = election_df_2020['candidate'].apply(lambda x: 'Others' if x not in ['Joe Biden', 'Donald Trump'] else x)\n",
    "election_df_2020"
   ]
  },
  {
   "cell_type": "code",
   "execution_count": 6,
   "metadata": {},
   "outputs": [
    {
     "output_type": "execute_result",
     "data": {
      "text/plain": [
       "          state             county     candidate  party  total_votes    won\n",
       "0      Delaware        Kent County     Joe Biden    DEM        44552   True\n",
       "1      Delaware        Kent County  Donald Trump    REP        41009  False\n",
       "2      Delaware        Kent County        Others  OTHER         1044  False\n",
       "3      Delaware        Kent County        Others  OTHER          420  False\n",
       "4      Delaware  New Castle County     Joe Biden    DEM       195034   True\n",
       "...         ...                ...           ...    ...          ...    ...\n",
       "32144   Arizona    Maricopa County        Others  OTHER         1331  False\n",
       "32145   Arizona      Mohave County  Donald Trump    REP        78535   True\n",
       "32146   Arizona      Mohave County     Joe Biden    DEM        24831  False\n",
       "32147   Arizona      Mohave County        Others  OTHER         1302  False\n",
       "32148   Arizona      Mohave County        Others  OTHER           37  False\n",
       "\n",
       "[32149 rows x 6 columns]"
      ],
      "text/html": "<div>\n<style scoped>\n    .dataframe tbody tr th:only-of-type {\n        vertical-align: middle;\n    }\n\n    .dataframe tbody tr th {\n        vertical-align: top;\n    }\n\n    .dataframe thead th {\n        text-align: right;\n    }\n</style>\n<table border=\"1\" class=\"dataframe\">\n  <thead>\n    <tr style=\"text-align: right;\">\n      <th></th>\n      <th>state</th>\n      <th>county</th>\n      <th>candidate</th>\n      <th>party</th>\n      <th>total_votes</th>\n      <th>won</th>\n    </tr>\n  </thead>\n  <tbody>\n    <tr>\n      <th>0</th>\n      <td>Delaware</td>\n      <td>Kent County</td>\n      <td>Joe Biden</td>\n      <td>DEM</td>\n      <td>44552</td>\n      <td>True</td>\n    </tr>\n    <tr>\n      <th>1</th>\n      <td>Delaware</td>\n      <td>Kent County</td>\n      <td>Donald Trump</td>\n      <td>REP</td>\n      <td>41009</td>\n      <td>False</td>\n    </tr>\n    <tr>\n      <th>2</th>\n      <td>Delaware</td>\n      <td>Kent County</td>\n      <td>Others</td>\n      <td>OTHER</td>\n      <td>1044</td>\n      <td>False</td>\n    </tr>\n    <tr>\n      <th>3</th>\n      <td>Delaware</td>\n      <td>Kent County</td>\n      <td>Others</td>\n      <td>OTHER</td>\n      <td>420</td>\n      <td>False</td>\n    </tr>\n    <tr>\n      <th>4</th>\n      <td>Delaware</td>\n      <td>New Castle County</td>\n      <td>Joe Biden</td>\n      <td>DEM</td>\n      <td>195034</td>\n      <td>True</td>\n    </tr>\n    <tr>\n      <th>...</th>\n      <td>...</td>\n      <td>...</td>\n      <td>...</td>\n      <td>...</td>\n      <td>...</td>\n      <td>...</td>\n    </tr>\n    <tr>\n      <th>32144</th>\n      <td>Arizona</td>\n      <td>Maricopa County</td>\n      <td>Others</td>\n      <td>OTHER</td>\n      <td>1331</td>\n      <td>False</td>\n    </tr>\n    <tr>\n      <th>32145</th>\n      <td>Arizona</td>\n      <td>Mohave County</td>\n      <td>Donald Trump</td>\n      <td>REP</td>\n      <td>78535</td>\n      <td>True</td>\n    </tr>\n    <tr>\n      <th>32146</th>\n      <td>Arizona</td>\n      <td>Mohave County</td>\n      <td>Joe Biden</td>\n      <td>DEM</td>\n      <td>24831</td>\n      <td>False</td>\n    </tr>\n    <tr>\n      <th>32147</th>\n      <td>Arizona</td>\n      <td>Mohave County</td>\n      <td>Others</td>\n      <td>OTHER</td>\n      <td>1302</td>\n      <td>False</td>\n    </tr>\n    <tr>\n      <th>32148</th>\n      <td>Arizona</td>\n      <td>Mohave County</td>\n      <td>Others</td>\n      <td>OTHER</td>\n      <td>37</td>\n      <td>False</td>\n    </tr>\n  </tbody>\n</table>\n<p>32149 rows × 6 columns</p>\n</div>"
     },
     "metadata": {},
     "execution_count": 6
    }
   ],
   "source": [
    "# Coverting all other parties as others and leave DEM and REP\n",
    "\n",
    "election_df_2020['party'] = election_df_2020['party'].apply(lambda x: 'OTHER' if x not in ['DEM', 'REP'] else x)\n",
    "election_df_2020"
   ]
  },
  {
   "cell_type": "code",
   "execution_count": 7,
   "metadata": {},
   "outputs": [
    {
     "output_type": "execute_result",
     "data": {
      "text/plain": [
       "         state           county     candidate  party    won  total_votes\n",
       "0      Alabama   Autauga County  Donald Trump    REP   True        19838\n",
       "1      Alabama   Autauga County     Joe Biden    DEM  False         7503\n",
       "2      Alabama   Autauga County        Others  OTHER  False          429\n",
       "3      Alabama   Baldwin County  Donald Trump    REP   True        83544\n",
       "4      Alabama   Baldwin County     Joe Biden    DEM  False        24578\n",
       "...        ...              ...           ...    ...    ...          ...\n",
       "13898  Wyoming  Washakie County     Joe Biden    DEM  False          651\n",
       "13899  Wyoming  Washakie County        Others  OTHER  False          116\n",
       "13900  Wyoming    Weston County  Donald Trump    REP   True         3107\n",
       "13901  Wyoming    Weston County     Joe Biden    DEM  False          360\n",
       "13902  Wyoming    Weston County        Others  OTHER  False           75\n",
       "\n",
       "[13903 rows x 6 columns]"
      ],
      "text/html": "<div>\n<style scoped>\n    .dataframe tbody tr th:only-of-type {\n        vertical-align: middle;\n    }\n\n    .dataframe tbody tr th {\n        vertical-align: top;\n    }\n\n    .dataframe thead th {\n        text-align: right;\n    }\n</style>\n<table border=\"1\" class=\"dataframe\">\n  <thead>\n    <tr style=\"text-align: right;\">\n      <th></th>\n      <th>state</th>\n      <th>county</th>\n      <th>candidate</th>\n      <th>party</th>\n      <th>won</th>\n      <th>total_votes</th>\n    </tr>\n  </thead>\n  <tbody>\n    <tr>\n      <th>0</th>\n      <td>Alabama</td>\n      <td>Autauga County</td>\n      <td>Donald Trump</td>\n      <td>REP</td>\n      <td>True</td>\n      <td>19838</td>\n    </tr>\n    <tr>\n      <th>1</th>\n      <td>Alabama</td>\n      <td>Autauga County</td>\n      <td>Joe Biden</td>\n      <td>DEM</td>\n      <td>False</td>\n      <td>7503</td>\n    </tr>\n    <tr>\n      <th>2</th>\n      <td>Alabama</td>\n      <td>Autauga County</td>\n      <td>Others</td>\n      <td>OTHER</td>\n      <td>False</td>\n      <td>429</td>\n    </tr>\n    <tr>\n      <th>3</th>\n      <td>Alabama</td>\n      <td>Baldwin County</td>\n      <td>Donald Trump</td>\n      <td>REP</td>\n      <td>True</td>\n      <td>83544</td>\n    </tr>\n    <tr>\n      <th>4</th>\n      <td>Alabama</td>\n      <td>Baldwin County</td>\n      <td>Joe Biden</td>\n      <td>DEM</td>\n      <td>False</td>\n      <td>24578</td>\n    </tr>\n    <tr>\n      <th>...</th>\n      <td>...</td>\n      <td>...</td>\n      <td>...</td>\n      <td>...</td>\n      <td>...</td>\n      <td>...</td>\n    </tr>\n    <tr>\n      <th>13898</th>\n      <td>Wyoming</td>\n      <td>Washakie County</td>\n      <td>Joe Biden</td>\n      <td>DEM</td>\n      <td>False</td>\n      <td>651</td>\n    </tr>\n    <tr>\n      <th>13899</th>\n      <td>Wyoming</td>\n      <td>Washakie County</td>\n      <td>Others</td>\n      <td>OTHER</td>\n      <td>False</td>\n      <td>116</td>\n    </tr>\n    <tr>\n      <th>13900</th>\n      <td>Wyoming</td>\n      <td>Weston County</td>\n      <td>Donald Trump</td>\n      <td>REP</td>\n      <td>True</td>\n      <td>3107</td>\n    </tr>\n    <tr>\n      <th>13901</th>\n      <td>Wyoming</td>\n      <td>Weston County</td>\n      <td>Joe Biden</td>\n      <td>DEM</td>\n      <td>False</td>\n      <td>360</td>\n    </tr>\n    <tr>\n      <th>13902</th>\n      <td>Wyoming</td>\n      <td>Weston County</td>\n      <td>Others</td>\n      <td>OTHER</td>\n      <td>False</td>\n      <td>75</td>\n    </tr>\n  </tbody>\n</table>\n<p>13903 rows × 6 columns</p>\n</div>"
     },
     "metadata": {},
     "execution_count": 7
    }
   ],
   "source": [
    "#Merging all others rows as one\n",
    "election_df_2020 = election_df_2020.groupby(by = ['state', 'county', 'candidate', 'party', 'won']).agg({'total_votes':'sum'}).reset_index()\n",
    "election_df_2020"
   ]
  },
  {
   "cell_type": "code",
   "execution_count": 9,
   "metadata": {},
   "outputs": [],
   "source": [
    "# Pivoting in order to have one row per county \n",
    "\n",
    "election_df_ready = election_df_2020.pivot_table(index = ['state', 'county'], columns='candidate', values = 'total_votes').reset_index()\n",
    "election_df_ready['county'] = election_df_ready['county'].str.replace(' County', '')\n",
    "election_df_ready.to_csv('election_2020_cleaned.csv')"
   ]
  }
 ]
}